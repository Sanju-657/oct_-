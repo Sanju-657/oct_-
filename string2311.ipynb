{
 "cells": [
  {
   "cell_type": "code",
   "execution_count": 1,
   "id": "b0c08b49-508c-4970-a5b8-53fe9376e1d2",
   "metadata": {},
   "outputs": [
    {
     "data": {
      "text/plain": [
       "'heLLo'"
      ]
     },
     "execution_count": 1,
     "metadata": {},
     "output_type": "execute_result"
    }
   ],
   "source": [
    "str1='hello'\n",
    "str1.replace('l','L')#default count=-1"
   ]
  },
  {
   "cell_type": "code",
   "execution_count": 3,
   "id": "ac0e6490-f13e-479f-ad6c-8ab9d6289da9",
   "metadata": {},
   "outputs": [
    {
     "data": {
      "text/plain": [
       "'heLlo'"
      ]
     },
     "execution_count": 3,
     "metadata": {},
     "output_type": "execute_result"
    }
   ],
   "source": [
    "str1.replace('l','L',1)"
   ]
  },
  {
   "cell_type": "markdown",
   "id": "413404dd-40e2-404e-970f-cffc7de7d9d0",
   "metadata": {},
   "source": [
    "**How to replace the only second letter**"
   ]
  },
  {
   "cell_type": "code",
   "execution_count": 9,
   "id": "d4daae90-157d-45bc-96b3-6d945a910ef9",
   "metadata": {},
   "outputs": [
    {
     "data": {
      "text/plain": [
       "'resta$t'"
      ]
     },
     "execution_count": 9,
     "metadata": {},
     "output_type": "execute_result"
    }
   ],
   "source": [
    "str2='restart'\n",
    "#ans: 'resta$t'\n",
    "str2.replace('rt','$t')# wrong aproach"
   ]
  },
  {
   "cell_type": "code",
   "execution_count": 17,
   "id": "c3c84499-29c1-4781-b4aa-1a07c00369cd",
   "metadata": {},
   "outputs": [
    {
     "data": {
      "text/plain": [
       "'resta$t'"
      ]
     },
     "execution_count": 17,
     "metadata": {},
     "output_type": "execute_result"
    }
   ],
   "source": [
    "rev=str2[::-1].replace('r','$',1)\n",
    "rev[::-1]"
   ]
  },
  {
   "cell_type": "code",
   "execution_count": null,
   "id": "14edc16e-5397-4c9e-9972-f955a2bcdfc1",
   "metadata": {},
   "outputs": [],
   "source": []
  },
  {
   "cell_type": "code",
   "execution_count": null,
   "id": "ffc8faba-7d58-409d-83aa-3e62c067c193",
   "metadata": {},
   "outputs": [],
   "source": [
    "#avoid methods it will kill logical thinking \n",
    "#the interviewee checks logical skills\n",
    "#so avoid using methods"
   ]
  },
  {
   "cell_type": "markdown",
   "id": "c29809b3-7883-4099-aa82-5e0ddfac09ed",
   "metadata": {},
   "source": [
    "- till first 'r' is the one string \n",
    "- after first 'r' is the another string"
   ]
  },
  {
   "cell_type": "markdown",
   "id": "9514cf3c-ed9d-4c27-b238-29b712225569",
   "metadata": {},
   "source": [
    "**1st approach**"
   ]
  },
  {
   "cell_type": "code",
   "execution_count": 19,
   "id": "181d5f11-72fd-4cc9-9b08-9a80cb939156",
   "metadata": {},
   "outputs": [
    {
     "data": {
      "text/plain": [
       "'resta$t'"
      ]
     },
     "execution_count": 19,
     "metadata": {},
     "output_type": "execute_result"
    }
   ],
   "source": [
    "str2='restart'\n",
    "s=str2[0]#indexing\n",
    "s2=str2[1:]#slicing\n",
    "s3=s2.replace('r','$')# replace\n",
    "s+s3"
   ]
  },
  {
   "cell_type": "markdown",
   "id": "32dd6950-8900-4105-bd2a-c7c10972a8ee",
   "metadata": {},
   "source": [
    "**2nd method**"
   ]
  },
  {
   "cell_type": "code",
   "execution_count": 35,
   "id": "34bb30e9-dd44-43cb-ae71-98db9a99fe0b",
   "metadata": {},
   "outputs": [],
   "source": [
    "#reverse -replace-reverse"
   ]
  },
  {
   "cell_type": "code",
   "execution_count": 21,
   "id": "4270388e-f4b1-491b-b3a5-37a0180f88af",
   "metadata": {},
   "outputs": [
    {
     "data": {
      "text/plain": [
       "'resta$t'"
      ]
     },
     "execution_count": 21,
     "metadata": {},
     "output_type": "execute_result"
    }
   ],
   "source": [
    "str2='restart'\n",
    "str2[::-1].replace('r','$',1)[::-1]"
   ]
  },
  {
   "cell_type": "markdown",
   "id": "5e586b5a-68b5-486f-bbba-fdb072080709",
   "metadata": {},
   "source": [
    "**index**"
   ]
  },
  {
   "cell_type": "code",
   "execution_count": 9,
   "id": "5dfe69c9-e1ac-4198-8359-ef1d6f3f554d",
   "metadata": {},
   "outputs": [
    {
     "data": {
      "text/plain": [
       "11"
      ]
     },
     "execution_count": 9,
     "metadata": {},
     "output_type": "execute_result"
    }
   ],
   "source": [
    "str4='hello hai how are you'\n",
    "str4.index('o',5,13)# raises value error when substring not found"
   ]
  },
  {
   "cell_type": "code",
   "execution_count": 9,
   "id": "ac9e10bd-7aa2-41d8-8ab9-6549f47ab98f",
   "metadata": {},
   "outputs": [
    {
     "data": {
      "text/plain": [
       "(3, 6, 10)"
      ]
     },
     "execution_count": 9,
     "metadata": {},
     "output_type": "execute_result"
    }
   ],
   "source": [
    "s='haihu hai heu'\n",
    "i=s.index('h',0+1)\n",
    "i1=s.index('h',i+1)\n",
    "i2=s.index('h',i1+1)\n",
    "i,i1,i2#raises valueError when substring not found"
   ]
  },
  {
   "cell_type": "code",
   "execution_count": 10,
   "id": "f2f53a3d-ca03-4bc6-8cff-b586c6b56211",
   "metadata": {},
   "outputs": [
    {
     "data": {
      "text/plain": [
       "(3, 6, 10)"
      ]
     },
     "execution_count": 10,
     "metadata": {},
     "output_type": "execute_result"
    }
   ],
   "source": [
    "s='haihu hai heu'\n",
    "i=s.find('h',0+1)\n",
    "i1=s.find('h',i+1)\n",
    "i2=s.find('h',i1+1)\n",
    "i,i1,i2 # Return -1  for representing a failure "
   ]
  },
  {
   "cell_type": "code",
   "execution_count": 11,
   "id": "441a0074-54b8-4c69-858c-9dd94d24b2bc",
   "metadata": {},
   "outputs": [
    {
     "name": "stdout",
     "output_type": "stream",
     "text": [
      "0\n"
     ]
    },
    {
     "data": {
      "text/plain": [
       "'t $estart'"
      ]
     },
     "execution_count": 11,
     "metadata": {},
     "output_type": "execute_result"
    }
   ],
   "source": [
    "q='restart restart'\n",
    "i1=q.index('r')\n",
    "print(i1)\n",
    "i2=q.index('r',i1+1)\n",
    "i3=q.index('r',i2+1)\n",
    "st=q[:i2+1]\n",
    "str=q[i2+1:]\n",
    "sq=str.replace('r','$',1)\n",
    "sq"
   ]
  },
  {
   "cell_type": "code",
   "execution_count": 5,
   "id": "4ac3c537-aa0d-4fc9-8a0e-944f10b317fd",
   "metadata": {},
   "outputs": [
    {
     "data": {
      "text/plain": [
       "'restart $estart'"
      ]
     },
     "execution_count": 5,
     "metadata": {},
     "output_type": "execute_result"
    }
   ],
   "source": [
    "st+sq\n"
   ]
  },
  {
   "cell_type": "markdown",
   "id": "8875eb99-2ed5-4669-b8bf-178d41b998fc",
   "metadata": {},
   "source": [
    "**find**"
   ]
  },
  {
   "cell_type": "markdown",
   "id": "d9365e2a-5a82-4543-aadc-f558b88c82fc",
   "metadata": {},
   "source": [
    "- just replace index with find\n",
    "- tell me the difference between index and find"
   ]
  },
  {
   "cell_type": "markdown",
   "id": "2ad56a27-f576-4015-ab1d-544b7a9e8fff",
   "metadata": {},
   "source": [
    "- index and find both are working for same to find the index of a letter\n",
    "- if any substring not found index will throw error \n",
    "    - but find method will give -1 (when failure /not have any letter)"
   ]
  },
  {
   "cell_type": "code",
   "execution_count": 17,
   "id": "dabd379d-a0b5-44a1-832c-02dc01140028",
   "metadata": {},
   "outputs": [
    {
     "name": "stdout",
     "output_type": "stream",
     "text": [
      "5\n"
     ]
    }
   ],
   "source": [
    "sr='hhi hu hei hyr'\n",
    "count=0\n",
    "for i in sr:\n",
    "    if i=='h':\n",
    "        count=count+1\n",
    "print(count)"
   ]
  },
  {
   "cell_type": "code",
   "execution_count": 21,
   "id": "c2b790ce-3adc-4d4e-9936-6813599077a7",
   "metadata": {},
   "outputs": [
    {
     "data": {
      "text/plain": [
       "0"
      ]
     },
     "execution_count": 21,
     "metadata": {},
     "output_type": "execute_result"
    }
   ],
   "source": [
    "sr.count('i',3,9)#argument,start and checking ,stop not check here(checking upto stop-1)"
   ]
  },
  {
   "cell_type": "code",
   "execution_count": 38,
   "id": "b8c803dc-27c3-44ad-954e-c470b797ca18",
   "metadata": {},
   "outputs": [
    {
     "data": {
      "text/plain": [
       "3"
      ]
     },
     "execution_count": 38,
     "metadata": {},
     "output_type": "execute_result"
    }
   ],
   "source": [
    "sr.count('h',1,8)"
   ]
  },
  {
   "cell_type": "markdown",
   "id": "12bbde74-500d-48cd-8fbc-f4c0b44f3edb",
   "metadata": {},
   "source": [
    "**sliding window approach**"
   ]
  },
  {
   "cell_type": "code",
   "execution_count": 42,
   "id": "a2762724-4355-44eb-a91e-52ce6050f01a",
   "metadata": {},
   "outputs": [
    {
     "name": "stdout",
     "output_type": "stream",
     "text": [
      "4\n"
     ]
    }
   ],
   "source": [
    "w='hai hai hai hai'\n",
    "count=0\n",
    "for i in range(len(w)):\n",
    "    if w[i:i+3]=='hai':\n",
    "        count=count+1\n",
    "print(count)"
   ]
  },
  {
   "cell_type": "code",
   "execution_count": null,
   "id": "5bf9bb51-ac40-44ad-8975-9d7c200e7f2a",
   "metadata": {},
   "outputs": [],
   "source": [
    "arr=input('enter an array')\n",
    "def max_sum_subarray(arr,k):\n",
    "    sum=arr["
   ]
  },
  {
   "cell_type": "code",
   "execution_count": null,
   "id": "03867b1b-5dfd-485f-9b49-1359d926c3c3",
   "metadata": {},
   "outputs": [],
   "source": []
  },
  {
   "cell_type": "markdown",
   "id": "4104febc-a2c1-4180-b720-8f2d20152fe8",
   "metadata": {},
   "source": [
    "**step-1 : i=0 if w[0:3] :'hai'=='hai' True**\n",
    "\n",
    "**step-2 : i=1 if w[1:4] :'ai '=='hai' False**\n",
    "\n",
    "**step-3 : i=2 if w[2:5] :'i h'=='hai' False**"
   ]
  },
  {
   "cell_type": "code",
   "execution_count": 40,
   "id": "6b1f5684-d598-4e52-8d44-283c3157734f",
   "metadata": {},
   "outputs": [],
   "source": [
    "str1='virat.kohli@rcb.com'\n",
    "str2='rohit.sharma@mi.com'\n",
    "str3='dhoni.villain@chennai.com'\n",
    "# derive the code to get\n",
    "#1st name,second name,Cname\n",
    "#idea is find the trigger points"
   ]
  },
  {
   "cell_type": "code",
   "execution_count": 46,
   "id": "9999c383-a65d-4402-9d66-8729b1ba95a5",
   "metadata": {},
   "outputs": [
    {
     "name": "stdout",
     "output_type": "stream",
     "text": [
      "sai teja mhb\n"
     ]
    }
   ],
   "source": [
    "def apply(str1):\n",
    "    first_dot=str1.find('.')\n",
    "    second_dot=str1.find('.',first_dot+1)\n",
    "    at_symbol=str1.find('@')\n",
    "    fname=str1[:first_dot]\n",
    "    sname=str1[first_dot+1:at_symbol]\n",
    "    cname=str1[at_symbol+1:second_dot]\n",
    "    print(fname,sname,cname)\n",
    "apply('sai.teja@mhb.com')"
   ]
  },
  {
   "cell_type": "code",
   "execution_count": 42,
   "id": "75b2881b-b23a-4660-a576-74aae90cce61",
   "metadata": {},
   "outputs": [
    {
     "name": "stdout",
     "output_type": "stream",
     "text": [
      "a b c\n"
     ]
    }
   ],
   "source": [
    "def apply(str1):\n",
    "    first_dot=str1.index('.')\n",
    "    second_dot=str1.index('.',first_dot+1)\n",
    "    at_symbol=str1.index('@')\n",
    "    fname=str1[:first_dot]\n",
    "    sname=str1[first_dot+1:at_symbol]\n",
    "    cname=str1[at_symbol+1:second_dot]\n",
    "    print(fname,sname,cname)\n",
    "apply('a.b@c.com')"
   ]
  },
  {
   "cell_type": "code",
   "execution_count": 48,
   "id": "e41565d9-4b6e-4501-823f-178417a38131",
   "metadata": {},
   "outputs": [
    {
     "name": "stdout",
     "output_type": "stream",
     "text": [
      "rohit sharma mi\n"
     ]
    }
   ],
   "source": [
    "apply('rohit.sharma@mi.com')"
   ]
  },
  {
   "cell_type": "markdown",
   "id": "f0757acb-51e5-4c7c-ae8f-829d7de35272",
   "metadata": {},
   "source": [
    "- upper/lower/casefold\n",
    "- title/capitalize\n",
    "- center\n",
    "- replace\n",
    "- index/find\n",
    "- count"
   ]
  },
  {
   "cell_type": "markdown",
   "id": "9db1a116-9a53-4b86-8bfb-5a43caeaef12",
   "metadata": {},
   "source": [
    "**isalnum'  'isalpha'  'isascii'  'isdecimal'  'isdigit'**\n",
    "                                                   **'isidentifier'  'islower'  'isnumeric'    'isprintable'**\n",
    "**'isspace'  'istitle'  'isupper'**"
   ]
  },
  {
   "cell_type": "markdown",
   "id": "00746631-d96d-41f2-a0ee-95bc1799d7a5",
   "metadata": {},
   "source": [
    "**lstrip-strip-rstrip**"
   ]
  },
  {
   "cell_type": "markdown",
   "id": "674363a9-b90d-4168-8d1f-9b9b3323982c",
   "metadata": {},
   "source": [
    "- lstrip: we can remove some letters from left side of string\n",
    "- rstrip: we can remove some letters from right side of string\n",
    "- strip: we can remove some letters from both side of string"
   ]
  },
  {
   "cell_type": "code",
   "execution_count": 52,
   "id": "803419c0-8247-4da0-bbe2-bf72ea45f873",
   "metadata": {},
   "outputs": [
    {
     "data": {
      "text/plain": [
       "'hai how are you'"
      ]
     },
     "execution_count": 52,
     "metadata": {},
     "output_type": "execute_result"
    }
   ],
   "source": [
    "z='***hai how are you'\n",
    "z.lstrip('*')"
   ]
  },
  {
   "cell_type": "code",
   "execution_count": 58,
   "id": "e18a1beb-b551-4cb2-af96-25bd32ebe288",
   "metadata": {},
   "outputs": [
    {
     "data": {
      "text/plain": [
       "(' hai hai how are', 'ai hai how are you')"
      ]
     },
     "execution_count": 58,
     "metadata": {},
     "output_type": "execute_result"
    }
   ],
   "source": [
    "v=' hai hai how are you '\n",
    "v.rstrip('you '),v.strip(' h')"
   ]
  },
  {
   "cell_type": "markdown",
   "id": "4eca6e04-287e-45c5-8a9e-738ef6d59129",
   "metadata": {},
   "source": [
    "**startswith-endswith**"
   ]
  },
  {
   "cell_type": "code",
   "execution_count": 60,
   "id": "db465e4a-b552-406e-aff7-4a10160c27df",
   "metadata": {},
   "outputs": [
    {
     "data": {
      "text/plain": [
       "(True, True, True)"
      ]
     },
     "execution_count": 60,
     "metadata": {},
     "output_type": "execute_result"
    }
   ],
   "source": [
    "j='game of life started i am not making myself busy in acheiving knowledge and job'\n",
    "j.startswith('game'),j.startswith('game of'),j.startswith(j)"
   ]
  },
  {
   "cell_type": "markdown",
   "id": "9e7f3997-c869-4e50-bfe2-8d4a9639d336",
   "metadata": {},
   "source": [
    "**split**"
   ]
  },
  {
   "cell_type": "code",
   "execution_count": 62,
   "id": "e0ebe38e-f7ed-4a50-b75b-11b5ba240af7",
   "metadata": {},
   "outputs": [
    {
     "data": {
      "text/plain": [
       "['hello', 'you', 'are', 'wasting', 'your', 'knowledge']"
      ]
     },
     "execution_count": 62,
     "metadata": {},
     "output_type": "execute_result"
    }
   ],
   "source": [
    "g='hello you are wasting your knowledge'\n",
    "g.split()\n"
   ]
  },
  {
   "cell_type": "code",
   "execution_count": 64,
   "id": "3f07833c-0aa2-480d-a1db-6fef5039d651",
   "metadata": {},
   "outputs": [
    {
     "data": {
      "text/plain": [
       "['', 'ello you are wasting your knowledge']"
      ]
     },
     "execution_count": 64,
     "metadata": {},
     "output_type": "execute_result"
    }
   ],
   "source": [
    "g.split('h')"
   ]
  },
  {
   "cell_type": "code",
   "execution_count": 72,
   "id": "85286a2b-53fe-400d-8c85-74dbcfdcd4a2",
   "metadata": {},
   "outputs": [
    {
     "data": {
      "text/plain": [
       "' hai hai how are you '"
      ]
     },
     "execution_count": 72,
     "metadata": {},
     "output_type": "execute_result"
    }
   ],
   "source": [
    "v=' hai hai how are you '\n",
    "v\n"
   ]
  },
  {
   "cell_type": "code",
   "execution_count": 88,
   "id": "d711e86d-c735-4604-81b6-b983be0a3d04",
   "metadata": {},
   "outputs": [
    {
     "name": "stdout",
     "output_type": "stream",
     "text": [
      "2\n"
     ]
    }
   ],
   "source": [
    "count=0\n",
    "v=' hai hai how are you '\n",
    "for i in range(1,len(v)):\n",
    "    if v[i:i+3]=='hai':\n",
    "        count+=1\n",
    "print(count)    "
   ]
  },
  {
   "cell_type": "code",
   "execution_count": null,
   "id": "0bf0b43a-06b2-4f56-b41d-925b9b3d2179",
   "metadata": {},
   "outputs": [],
   "source": [
    "# in a given senence find the most repeated word\n",
    "# in a given senence find max and min len of word\n",
    "# in a given sentence most occured second max length of word\n",
    "# sliding window\n",
    "# strings==list vice-versa\n",
    "# hai how are you: Hai How Are You(with out method)"
   ]
  },
  {
   "cell_type": "code",
   "execution_count": 94,
   "id": "36e098cd-2f3c-4ea3-8a07-c2bb3d16554c",
   "metadata": {},
   "outputs": [
    {
     "name": "stdout",
     "output_type": "stream",
     "text": [
      "Second Largest Number: 89\n",
      "Two Smallest Numbers: 13 and 29\n"
     ]
    }
   ],
   "source": [
    "def find_numbers(lst):\n",
    "    # Initialize with first two elements (ensuring different values)\n",
    "    if lst[0] < lst[1]:\n",
    "        smallest1, smallest2 = lst[0], lst[1]\n",
    "    else:\n",
    "        smallest1, smallest2 = lst[1], lst[0]\n",
    "\n",
    "    largest = second_largest = lst[0]  # Initialize with the first element\n",
    "\n",
    "    for num in lst[2:]:  # Start from the third element\n",
    "        # Find the two smallest numbers\n",
    "        if num < smallest1:\n",
    "            smallest2 = smallest1\n",
    "            smallest1 = num\n",
    "        elif num < smallest2 and num != smallest1:\n",
    "            smallest2 = num\n",
    "\n",
    "        # Find the second largest number\n",
    "        if num > largest:\n",
    "            second_largest = largest\n",
    "            largest = num\n",
    "        elif num > second_largest and num != largest:\n",
    "            second_largest = num\n",
    "\n",
    "    return second_largest, (smallest1, smallest2)\n",
    "\n",
    "# Example usage\n",
    "numbers = [59, 37, 97, 31, 29, 85, 13, 89, 32]\n",
    "second_largest, (smallest1, smallest2) = find_numbers(numbers)\n",
    "\n",
    "print(\"Second Largest Number:\", second_largest)\n",
    "print(\"Two Smallest Numbers:\", smallest1, \"and\", smallest2)\n"
   ]
  },
  {
   "cell_type": "code",
   "execution_count": 121,
   "id": "63f7640e-eaa9-44bd-a67a-c2834f2d989c",
   "metadata": {},
   "outputs": [
    {
     "name": "stdout",
     "output_type": "stream",
     "text": [
      "4 is  smallest number\n",
      "7 is 2nd smallest number\n",
      "83 is  largest number\n",
      "65 is 2nd largest number\n"
     ]
    }
   ],
   "source": [
    "def numbers(lt):\n",
    "    if lt[0]<lt[1]:\n",
    "        sm1,sm2=lt[0],lt[1]\n",
    "    else:\n",
    "        sm1,sm2=lt[1],lt[0]\n",
    "    larg=s_larg=lt[0]\n",
    "    for i in lt[2:]:\n",
    "        if i<sm1:\n",
    "            sm2,sm1=sm1,i\n",
    "        elif i<sm2 and i!=sm1:\n",
    "            sm2=i\n",
    "        if i>larg:\n",
    "            s_larg=larg\n",
    "            larg=i\n",
    "        elif i>s_larg and i!=larg:\n",
    "            s_larg=i\n",
    "    print(f\"{sm1} is  smallest number\")\n",
    "    print(f\"{sm2} is 2nd smallest number\") \n",
    "    print(f\"{larg} is  largest number\")\n",
    "    print(f\"{s_larg} is 2nd largest number\")\n",
    "lt=[23,4,53,24,65,83,7]\n",
    "numbers(lt)     "
   ]
  },
  {
   "cell_type": "code",
   "execution_count": 135,
   "id": "7421678f-11eb-4b1e-8466-96bf6fe0789a",
   "metadata": {},
   "outputs": [
    {
     "name": "stdout",
     "output_type": "stream",
     "text": [
      "1 \n",
      "0 1 \n",
      "1 0 1 \n",
      "0 1 0 1 \n",
      "1 0 1 0 1 \n"
     ]
    }
   ],
   "source": [
    "n=5\n",
    "for i in range(1,n+1):\n",
    "    for j in range(i):\n",
    "        print((i+j)%2,end=' ')\n",
    "    print()\n",
    "    "
   ]
  },
  {
   "cell_type": "code",
   "execution_count": 137,
   "id": "b4c47ffc-1e3e-4904-86f1-248874443f08",
   "metadata": {},
   "outputs": [
    {
     "name": "stdout",
     "output_type": "stream",
     "text": [
      "1 0 1 0 1 \n",
      "0 1 0 1 \n",
      "1 0 1 \n",
      "0 1 \n",
      "1 \n"
     ]
    }
   ],
   "source": [
    "n=5\n",
    "for i in range(n,0,-1):\n",
    "    for j in range(i):\n",
    "        print((i+j)%2,end=' ')\n",
    "    print()\n",
    "    "
   ]
  },
  {
   "cell_type": "markdown",
   "id": "aed54fdf-5574-465f-94b0-ac62a134583d",
   "metadata": {},
   "source": []
  },
  {
   "cell_type": "code",
   "execution_count": null,
   "id": "2826cb9c-2515-4085-a7b5-1d6a648ea16e",
   "metadata": {},
   "outputs": [],
   "source": []
  }
 ],
 "metadata": {
  "kernelspec": {
   "display_name": "Python 3 (ipykernel)",
   "language": "python",
   "name": "python3"
  },
  "language_info": {
   "codemirror_mode": {
    "name": "ipython",
    "version": 3
   },
   "file_extension": ".py",
   "mimetype": "text/x-python",
   "name": "python",
   "nbconvert_exporter": "python",
   "pygments_lexer": "ipython3",
   "version": "3.12.4"
  }
 },
 "nbformat": 4,
 "nbformat_minor": 5
}
