{
 "cells": [
  {
   "cell_type": "markdown",
   "id": "f2f241bb-39f9-4833-85af-047a63086074",
   "metadata": {},
   "source": [
    "- inbuit functions applicable for all python data types\n",
    "- ex: print, type, min,max..\n",
    "- access: inbuilt_function(<value>)\n",
    "- method is a specific use for different data types\n",
    "- access:package.methodname()\n",
    "- access:element.methodname()"
   ]
  },
  {
   "cell_type": "code",
   "execution_count": 2,
   "id": "5167ce9f-6f4f-4ca9-8293-de2227e1e400",
   "metadata": {},
   "outputs": [
    {
     "data": {
      "text/plain": [
       "'python'"
      ]
     },
     "execution_count": 2,
     "metadata": {},
     "output_type": "execute_result"
    }
   ],
   "source": [
    "'python'.casefold()"
   ]
  },
  {
   "cell_type": "code",
   "execution_count": 4,
   "id": "c0b02de2-e181-4a60-894e-56e85c5cbe45",
   "metadata": {},
   "outputs": [
    {
     "data": {
      "text/plain": [
       "'python'"
      ]
     },
     "execution_count": 4,
     "metadata": {},
     "output_type": "execute_result"
    }
   ],
   "source": [
    "'PYthon'.casefold()"
   ]
  },
  {
   "cell_type": "markdown",
   "id": "89bf8816-eaee-4d72-b56f-3be64d5301a6",
   "metadata": {},
   "source": [
    "**CAPITALIZE**"
   ]
  },
  {
   "cell_type": "code",
   "execution_count": 7,
   "id": "6dde3548-8f0d-4744-984b-2e2d1dd4b57f",
   "metadata": {},
   "outputs": [
    {
     "data": {
      "text/plain": [
       "'Welcome'"
      ]
     },
     "execution_count": 7,
     "metadata": {},
     "output_type": "execute_result"
    }
   ],
   "source": [
    "str1='welcome'\n",
    "str1.capitalize()"
   ]
  },
  {
   "cell_type": "code",
   "execution_count": 9,
   "id": "f8c99f4b-3a5d-4007-b968-8e95353d77fc",
   "metadata": {},
   "outputs": [
    {
     "data": {
      "text/plain": [
       "'Hello how are you'"
      ]
     },
     "execution_count": 9,
     "metadata": {},
     "output_type": "execute_result"
    }
   ],
   "source": [
    "str1='hello how are you'\n",
    "str1.capitalize()"
   ]
  },
  {
   "cell_type": "markdown",
   "id": "c4a95b62-c73b-4a5f-a287-409ea5f4b290",
   "metadata": {},
   "source": [
    "**title**"
   ]
  },
  {
   "cell_type": "code",
   "execution_count": 11,
   "id": "108820d2-362c-45c6-bc15-29d2b1346321",
   "metadata": {},
   "outputs": [
    {
     "data": {
      "text/plain": [
       "'Welcome'"
      ]
     },
     "execution_count": 11,
     "metadata": {},
     "output_type": "execute_result"
    }
   ],
   "source": [
    "'welcome'.title()"
   ]
  },
  {
   "cell_type": "code",
   "execution_count": 16,
   "id": "173eec01-c41a-47c6-b679-0466e395a0df",
   "metadata": {},
   "outputs": [
    {
     "data": {
      "text/plain": [
       "'      python     '"
      ]
     },
     "execution_count": 16,
     "metadata": {},
     "output_type": "execute_result"
    }
   ],
   "source": [
    "str1='python'\n",
    "str1.center(17)"
   ]
  },
  {
   "cell_type": "code",
   "execution_count": 18,
   "id": "4fc73353-c568-4b48-9728-b97baaaa8f89",
   "metadata": {},
   "outputs": [
    {
     "data": {
      "text/plain": [
       "' python '"
      ]
     },
     "execution_count": 18,
     "metadata": {},
     "output_type": "execute_result"
    }
   ],
   "source": [
    "str1.center(8)"
   ]
  },
  {
   "cell_type": "code",
   "execution_count": 20,
   "id": "bbff26aa-62d4-4a10-919f-4f805f6b2724",
   "metadata": {},
   "outputs": [
    {
     "data": {
      "text/plain": [
       "8"
      ]
     },
     "execution_count": 20,
     "metadata": {},
     "output_type": "execute_result"
    }
   ],
   "source": [
    "len(str1.center(8))"
   ]
  },
  {
   "cell_type": "code",
   "execution_count": 22,
   "id": "f8ff37e1-22b2-4f0e-a2b9-073e6e512ebd",
   "metadata": {},
   "outputs": [
    {
     "data": {
      "text/plain": [
       "17"
      ]
     },
     "execution_count": 22,
     "metadata": {},
     "output_type": "execute_result"
    }
   ],
   "source": [
    "len(str1.center(17))"
   ]
  },
  {
   "cell_type": "code",
   "execution_count": 24,
   "id": "d315b8fd-d364-4742-a70e-3065b76e63ea",
   "metadata": {},
   "outputs": [
    {
     "data": {
      "text/plain": [
       "'$$$$$$$python$$$$$$'"
      ]
     },
     "execution_count": 24,
     "metadata": {},
     "output_type": "execute_result"
    }
   ],
   "source": [
    "str1.center(19,'$')"
   ]
  },
  {
   "cell_type": "code",
   "execution_count": 30,
   "id": "a4676838-1abd-4b7e-a7f3-a616a06d1bb8",
   "metadata": {},
   "outputs": [
    {
     "data": {
      "text/plain": [
       "'pyLhon'"
      ]
     },
     "execution_count": 30,
     "metadata": {},
     "output_type": "execute_result"
    }
   ],
   "source": [
    "str1.replace('t','L')"
   ]
  },
  {
   "cell_type": "code",
   "execution_count": 38,
   "id": "8662ed67-015c-48fe-9de2-16dfd3f43c21",
   "metadata": {},
   "outputs": [
    {
     "data": {
      "text/plain": [
       "'pylaon'"
      ]
     },
     "execution_count": 38,
     "metadata": {},
     "output_type": "execute_result"
    }
   ],
   "source": [
    "str1.replace('th','la',5)"
   ]
  },
  {
   "cell_type": "code",
   "execution_count": 40,
   "id": "f6c74029-4b30-4c1f-8f12-8a9d665cb12f",
   "metadata": {},
   "outputs": [
    {
     "data": {
      "text/plain": [
       "'welllcome'"
      ]
     },
     "execution_count": 40,
     "metadata": {},
     "output_type": "execute_result"
    }
   ],
   "source": [
    "str1='welllcome'\n",
    "str1.replace('z','Z')"
   ]
  },
  {
   "cell_type": "code",
   "execution_count": null,
   "id": "777fca60-4bb7-45ec-9a6c-3ee7de09b5c1",
   "metadata": {},
   "outputs": [],
   "source": []
  }
 ],
 "metadata": {
  "kernelspec": {
   "display_name": "Python 3 (ipykernel)",
   "language": "python",
   "name": "python3"
  },
  "language_info": {
   "codemirror_mode": {
    "name": "ipython",
    "version": 3
   },
   "file_extension": ".py",
   "mimetype": "text/x-python",
   "name": "python",
   "nbconvert_exporter": "python",
   "pygments_lexer": "ipython3",
   "version": "3.12.4"
  }
 },
 "nbformat": 4,
 "nbformat_minor": 5
}
