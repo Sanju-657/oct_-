{
 "cells": [
  {
   "cell_type": "markdown",
   "id": "6953427e-5f0e-436b-b0d9-44b3b7a9b212",
   "metadata": {},
   "source": [
    "**Write a program that asks the user for an integer and creates a list that consists of the factors of that\n",
    "integer.**"
   ]
  },
  {
   "cell_type": "code",
   "execution_count": 10,
   "id": "a34e545d-382a-4c20-b99b-0f5ee8c7931a",
   "metadata": {},
   "outputs": [
    {
     "name": "stdin",
     "output_type": "stream",
     "text": [
      "enter an positive integer 12\n"
     ]
    },
    {
     "name": "stdout",
     "output_type": "stream",
     "text": [
      "[1, 2, 3, 4, 6, 12]\n"
     ]
    }
   ],
   "source": [
    "n=int(input('enter an positive integer'))\n",
    "l=[]\n",
    "for i in range(1,n+1):\n",
    "    if n%i==0:\n",
    "        l.append(i)\n",
    "print(l)\n",
    "        "
   ]
  },
  {
   "cell_type": "markdown",
   "id": "05fcd20b-a4f9-4c66-9b57-3c02d7f42c48",
   "metadata": {},
   "source": [
    "**Ask the user to enter a list containing numbers between 1 and 12. Replace all entries in the list that\n",
    "are greater than 10 with 10.**"
   ]
  },
  {
   "cell_type": "code",
   "execution_count": 12,
   "id": "7c061a28-8b15-4b69-9557-8e15113c50b7",
   "metadata": {},
   "outputs": [
    {
     "name": "stdin",
     "output_type": "stream",
     "text": [
      "enter some elements 12 11 10\n"
     ]
    },
    {
     "name": "stdout",
     "output_type": "stream",
     "text": [
      "[10, 10, 10]\n"
     ]
    }
   ],
   "source": [
    "s=list(map(int,input('enter elements').split()))\n",
    "s\n",
    "for i in range(len(s)):\n",
    "    if s[i]>10:\n",
    "        s[i]=10\n",
    "print(s)"
   ]
  },
  {
   "cell_type": "markdown",
   "id": "4dd0718b-1710-4230-ad1b-14204e53eb19",
   "metadata": {},
   "source": [
    "**1. List Operations with User Input\n",
    "Write a program that asks the user to enter a list of integers. Perform the following tasks:\n",
    "(a) Print the total number of items in the list.\n",
    "(b) Print the last item in the list.\n",
    "(c) Print the list in reverse order.\n",
    "(d) Print &quot;Yes&quot; if the list contains a 5 and &quot;No&quot; otherwise.\n",
    "(e) Print the number of fives in the list.\n",
    "(f) Remove the first and last items from the list, sort the remaining items, and print the result.\n",
    "(g) Print how many integers in the list are less than 5.**"
   ]
  },
  {
   "cell_type": "code",
   "execution_count": 16,
   "id": "5d93e787-6c83-45d8-a458-c88082953d4c",
   "metadata": {},
   "outputs": [
    {
     "name": "stdin",
     "output_type": "stream",
     "text": [
      "enter some elements 1 2 3 4\n"
     ]
    },
    {
     "data": {
      "text/plain": [
       "4"
      ]
     },
     "execution_count": 16,
     "metadata": {},
     "output_type": "execute_result"
    }
   ],
   "source": [
    "s=list(map(int,input('enter elements').split()))\n",
    "len(s)"
   ]
  },
  {
   "cell_type": "code",
   "execution_count": 3,
   "id": "9bd4fc8e-eea1-4333-a782-80368d814d9d",
   "metadata": {},
   "outputs": [
    {
     "name": "stdin",
     "output_type": "stream",
     "text": [
      "enter  elements 1 2 3 5 25 52 16 18 19\n"
     ]
    },
    {
     "name": "stdout",
     "output_type": "stream",
     "text": [
      "19\n"
     ]
    }
   ],
   "source": [
    "s=list(map(int,input('enter  elements').split()))\n",
    "q=len(s)\n",
    "print(s[q-1])"
   ]
  },
  {
   "cell_type": "code",
   "execution_count": 5,
   "id": "ed475dd1-7366-4221-85b5-e8ef2ac83c0e",
   "metadata": {},
   "outputs": [
    {
     "data": {
      "text/plain": [
       "[19, 18, 16, 52, 25, 5, 3, 2, 1]"
      ]
     },
     "execution_count": 5,
     "metadata": {},
     "output_type": "execute_result"
    }
   ],
   "source": [
    "s[-1:-len(s)-1:-1]"
   ]
  },
  {
   "cell_type": "markdown",
   "id": "0a414a0f-cfe9-4e6e-a1ef-7f8075b0b184",
   "metadata": {},
   "source": [
    "**Print &quot;Yes&quot; if the list contains a 5 and &quot;No&quot; otherwise.**"
   ]
  },
  {
   "cell_type": "code",
   "execution_count": 7,
   "id": "1eadd064-ebc9-4a30-8b9e-5bf1a1deb848",
   "metadata": {},
   "outputs": [
    {
     "name": "stdout",
     "output_type": "stream",
     "text": [
      "Yes\n"
     ]
    }
   ],
   "source": [
    "for i in s:\n",
    "    if i==5:\n",
    "        print(\"Yes\")\n",
    "   "
   ]
  },
  {
   "cell_type": "code",
   "execution_count": 19,
   "id": "4ee6128a-f71c-4428-a62f-3acbf4f1edcd",
   "metadata": {},
   "outputs": [
    {
     "name": "stdout",
     "output_type": "stream",
     "text": [
      "no\n",
      "no\n",
      "no\n",
      "Yes\n",
      "no\n",
      "no\n",
      "no\n",
      "no\n",
      "no\n"
     ]
    }
   ],
   "source": [
    "for i in s:\n",
    "    if i==5:\n",
    "        print(\"Yes\")\n",
    "    else:\n",
    "        print(\"no\")\n",
    "    "
   ]
  },
  {
   "cell_type": "code",
   "execution_count": 13,
   "id": "d8e6b2b7-e5fc-452a-8306-205434bc7e3e",
   "metadata": {},
   "outputs": [
    {
     "data": {
      "text/plain": [
       "1"
      ]
     },
     "execution_count": 13,
     "metadata": {},
     "output_type": "execute_result"
    }
   ],
   "source": [
    "s.count(5)"
   ]
  },
  {
   "cell_type": "markdown",
   "id": "dd9e000e-cce7-4c3c-90f3-7df404c433a1",
   "metadata": {},
   "source": [
    "**Remove the first and last items from the list, sort the remaining items, and print the result.**"
   ]
  },
  {
   "cell_type": "code",
   "execution_count": 65,
   "id": "e9790690-9485-46ab-a3d9-3a0cb6b61a96",
   "metadata": {},
   "outputs": [
    {
     "name": "stdin",
     "output_type": "stream",
     "text": [
      "enter  elements 1 2 3 4 5 6\n"
     ]
    },
    {
     "data": {
      "text/plain": [
       "[2, 3, 4, 5]"
      ]
     },
     "execution_count": 65,
     "metadata": {},
     "output_type": "execute_result"
    }
   ],
   "source": [
    "s=list(map(int,input('enter  elements').split()))\n",
    "l=s[1:len(s)-1:1]\n",
    "l.sort()\n",
    "l"
   ]
  },
  {
   "cell_type": "markdown",
   "id": "d32c4321-f8c5-4abc-a442-c87e60c65bbb",
   "metadata": {},
   "source": [
    "**// floor division gives only**"
   ]
  },
  {
   "cell_type": "code",
   "execution_count": 1,
   "id": "0488df15-d63c-4071-8429-9d06cbedef5f",
   "metadata": {},
   "outputs": [
    {
     "name": "stdin",
     "output_type": "stream",
     "text": [
      "enter a num 21\n",
      "enter num 8\n"
     ]
    },
    {
     "data": {
      "text/plain": [
       "2"
      ]
     },
     "execution_count": 1,
     "metadata": {},
     "output_type": "execute_result"
    }
   ],
   "source": [
    "def fllordivision():\n",
    "    return a//b\n",
    "a=int(input('enter a num'))\n",
    "b=int(input('enter num'))\n",
    "fllordivision()"
   ]
  },
  {
   "cell_type": "code",
   "execution_count": 5,
   "id": "3f694020-f347-4212-a450-7733b5c70e3f",
   "metadata": {
    "scrolled": true
   },
   "outputs": [
    {
     "name": "stdout",
     "output_type": "stream",
     "text": [
      "1\n",
      "0\n",
      "0\n"
     ]
    }
   ],
   "source": [
    "def fllordivision(a,b):\n",
    "    return a//b\n",
    "a=[13,16,19]\n",
    "b=[12,23,34]\n",
    "r=map(fllordivision,a,b)\n",
    "for i in r:\n",
    "    print(i)"
   ]
  },
  {
   "cell_type": "code",
   "execution_count": null,
   "id": "48b5f249-bfa9-44dd-aa5f-88a2e641744f",
   "metadata": {},
   "outputs": [],
   "source": [
    "s=list(map(int,input('enter numbers').split()))\n",
    "for i in range(len(s)):\n",
    "    if s[i]<5:\n",
    "        print(s[i])      "
   ]
  },
  {
   "cell_type": "markdown",
   "id": "ec236b2b-6041-4c26-ae77-7d30d3e0536b",
   "metadata": {},
   "source": [
    "**2. Random Number List Analysis\n",
    "Write a program that generates a list of 20 random numbers between 1 and 100. Perform the\n",
    "following tasks:**\n",
    "\n",
    "#(a) Print the list.\n",
    "#(b) Print the average of the elements in the list.\n",
    "#(c) Print the largest and smallest values in the list.\n",
    "#(d) Print the second largest and second smallest entries in the list.\n",
    "#(e) Print how many even numbers are in the list."
   ]
  },
  {
   "cell_type": "code",
   "execution_count": 2,
   "id": "d1c2fe23-02ee-48e9-909e-fa44a6584907",
   "metadata": {},
   "outputs": [
    {
     "name": "stdout",
     "output_type": "stream",
     "text": [
      "list is [8, 13, 50, 49, 46, 10, 48, 22, 65, 92, 87, 75, 92, 14, 14, 26, 65, 18, 46] and average of the elements in list is 44.21052631578947\n"
     ]
    }
   ],
   "source": [
    "import random\n",
    "l=[]\n",
    "avg=0\n",
    "count=0\n",
    "for i in range(1,20):\n",
    "    s=random.randint(1,100) \n",
    "    l.append(s)\n",
    "    avg=avg+s\n",
    "    count=count+1\n",
    "print(f'list is {l} and average of the elements in list is {avg/count}')# question a and b"
   ]
  },
  {
   "cell_type": "code",
   "execution_count": 33,
   "id": "449df182-48b1-4ae8-a418-554bc07d002d",
   "metadata": {},
   "outputs": [
    {
     "name": "stdout",
     "output_type": "stream",
     "text": [
      "[57, 87, 81, 7, 87, 35, 37, 21, 67, 68, 52, 20, 3, 30, 34, 13, 83, 51, 25]\n",
      "Largest: 87\n",
      "Smallest: 3\n"
     ]
    }
   ],
   "source": [
    "#c and d question\n",
    "import random\n",
    "numbers=[]\n",
    "for i in range(1,20):\n",
    "    s=random.randint(1,100) \n",
    "    numbers.append(s)\n",
    "print(numbers)\n",
    "# Using loops\n",
    "largest = numbers[0]\n",
    "smallest = numbers[0]\n",
    "for num in numbers:\n",
    "    if num > largest:\n",
    "        largest = num\n",
    "    if num < smallest:\n",
    "        smallest = num\n",
    "print(\"Largest:\", largest)\n",
    "print(\"Smallest:\", smallest)\n"
   ]
  },
  {
   "cell_type": "code",
   "execution_count": 33,
   "id": "9492558d-542c-4ddd-912b-92efd0234989",
   "metadata": {},
   "outputs": [
    {
     "name": "stdout",
     "output_type": "stream",
     "text": [
      "[9, 50, 63, 96, 24, 5, 49, 2, 38, 76, 16, 68, 76, 5, 12, 30, 72, 29, 45]\n",
      "largest value is 96\n",
      "smallest value is 2\n"
     ]
    }
   ],
   "source": [
    "import random\n",
    "numbers=[]\n",
    "for i in range(1,20):\n",
    "    s=random.randint(1,100) \n",
    "    numbers.append(s)\n",
    "print(numbers)\n",
    "from functools import reduce\n",
    "largest=reduce(lambda x,y:x if x>y else y ,numbers)\n",
    "smallest=reduce(lambda x,y:x if x<y else y,numbers)\n",
    "print(\"largest value is\",largest)\n",
    "print(\"smallest value is\",smallest)\n",
    "#using lambda function\n",
    "#if output,if condition, else ,else output,varaible name assigned to datatype i.e only list  loop "
   ]
  },
  {
   "cell_type": "code",
   "execution_count": 13,
   "id": "822aa12d-6d32-4b5e-b0e5-546d5bf27104",
   "metadata": {},
   "outputs": [
    {
     "name": "stdout",
     "output_type": "stream",
     "text": [
      "largest value is 67\n",
      "smallest value is 1\n"
     ]
    }
   ],
   "source": [
    "numbers={1,12,9,19,18,23,16,29,31,28,37,39,25,53,31,67,59}\n",
    "from functools import reduce\n",
    "largest=reduce(lambda x,y:x if x>y else y ,numbers)\n",
    "smallest=reduce(lambda x,y:x if x<y else y,numbers)\n",
    "print(\"largest value is\",largest)\n",
    "print(\"smallest value is\",smallest)"
   ]
  },
  {
   "cell_type": "code",
   "execution_count": 17,
   "id": "b92a6af3-7f56-48eb-9eee-7d4eefd52205",
   "metadata": {},
   "outputs": [
    {
     "name": "stdout",
     "output_type": "stream",
     "text": [
      "2nd largest number is: 83\n",
      "2nd smallest number is: 1\n"
     ]
    }
   ],
   "source": [
    "import random\n",
    "numbers=[]\n",
    "for i in range(1,20):\n",
    "    s=random.randint(1,100) \n",
    "    numbers.append(s)\n",
    "numbers.sort()\n",
    "print(f'2nd largest number is: {numbers[-2]}')\n",
    "print(f'2nd smallest number is: {numbers[1]}')\n"
   ]
  },
  {
   "cell_type": "markdown",
   "id": "3ea9d331-713b-4774-a8be-bd9134a5b87d",
   "metadata": {},
   "source": [
    "**3. Modify and Transform a Predefined List**\n",
    "\n",
    "    \n",
    "**Start with the list [8, 9, 10]. Perform the following tasks:**\n",
    "    \n",
    "**(a) Set the second entry (index 1) to 17.**\n",
    "    \n",
    "**(b) Add 4, 5, and 6 to the end of the list.**\n",
    "\n",
    "**(c) Remove the first entry from the list.**\n",
    "\n",
    "**(d) Sort the list.**\n",
    "\n",
    "  **(e) Double the list.**\n",
    "\n",
    "  **(f) Insert 25 at index 3.**\n",
    "**The final list should equal [4, 5, 6, 25, 10, 17, 4, 5, 6, 10, 17].**"
   ]
  },
  {
   "cell_type": "code",
   "execution_count": 1,
   "id": "8a7169f5-3901-4d4a-bf50-d9767060aab2",
   "metadata": {},
   "outputs": [
    {
     "data": {
      "text/plain": [
       "[8, 17, 10]"
      ]
     },
     "execution_count": 1,
     "metadata": {},
     "output_type": "execute_result"
    }
   ],
   "source": [
    "l=[8,9,10]\n",
    "l[1]=17\n",
    "l"
   ]
  },
  {
   "cell_type": "code",
   "execution_count": 3,
   "id": "d2baa47c-9248-4b20-a250-7bc70a9a6ac0",
   "metadata": {},
   "outputs": [
    {
     "data": {
      "text/plain": [
       "[8, 17, 10, 4, 5, 6]"
      ]
     },
     "execution_count": 3,
     "metadata": {},
     "output_type": "execute_result"
    }
   ],
   "source": [
    "a=4\n",
    "for i in range(3):\n",
    "    l.append(a)\n",
    "    a+=1\n",
    "l"
   ]
  },
  {
   "cell_type": "code",
   "execution_count": 5,
   "id": "e85605f4-a21c-4de7-9abb-19198498ab77",
   "metadata": {},
   "outputs": [
    {
     "data": {
      "text/plain": [
       "[17, 10, 4, 5, 6]"
      ]
     },
     "execution_count": 5,
     "metadata": {},
     "output_type": "execute_result"
    }
   ],
   "source": [
    "l.remove(8)\n",
    "l"
   ]
  },
  {
   "cell_type": "code",
   "execution_count": 7,
   "id": "48d116a6-79d0-4cbd-8613-ec0f86e32cfd",
   "metadata": {},
   "outputs": [
    {
     "data": {
      "text/plain": [
       "[4, 5, 6, 10, 17]"
      ]
     },
     "execution_count": 7,
     "metadata": {},
     "output_type": "execute_result"
    }
   ],
   "source": [
    "l.sort()\n",
    "l"
   ]
  },
  {
   "cell_type": "code",
   "execution_count": 9,
   "id": "500b6135-759f-4b21-93c1-9495701e0eb8",
   "metadata": {},
   "outputs": [
    {
     "data": {
      "text/plain": [
       "[4, 5, 6, 10, 17, 4, 5, 6, 10, 17]"
      ]
     },
     "execution_count": 9,
     "metadata": {},
     "output_type": "execute_result"
    }
   ],
   "source": [
    "r=l+l\n",
    "r"
   ]
  },
  {
   "cell_type": "code",
   "execution_count": 11,
   "id": "a1b766fc-ed15-40d9-97fa-7c18aa4528bc",
   "metadata": {},
   "outputs": [
    {
     "data": {
      "text/plain": [
       "[4, 5, 6, 25, 10, 17, 4, 5, 6, 10, 17]"
      ]
     },
     "execution_count": 11,
     "metadata": {},
     "output_type": "execute_result"
    }
   ],
   "source": [
    "r.insert(3,25)\n",
    "r"
   ]
  },
  {
   "cell_type": "code",
   "execution_count": null,
   "id": "c9d9d0ca-d3ac-4e02-967a-1e575b65e2bb",
   "metadata": {},
   "outputs": [],
   "source": [
    "#doubling the each element in list \n",
    "j=0\n",
    "for i in l:\n",
    "    l[j]=i*2\n",
    "    j+=1\n",
    "l"
   ]
  },
  {
   "cell_type": "code",
   "execution_count": 11,
   "id": "79f17e81-c4ed-4c63-b00c-1085a87d3ced",
   "metadata": {},
   "outputs": [
    {
     "data": {
      "text/plain": [
       "[8, 10, 12, 25, 20, 34]"
      ]
     },
     "execution_count": 11,
     "metadata": {},
     "output_type": "execute_result"
    }
   ],
   "source": [
    "l.insert(3,25)\n",
    "l"
   ]
  },
  {
   "cell_type": "markdown",
   "id": "6d180fcb-4d43-487f-99e5-8131ddb551d7",
   "metadata": {},
   "source": [
    "**5. Modify Strings in a List**\n",
    "    \n",
    "**Ask the user to enter a list of strings. Create a new list that consists of those strings with their first\n",
    "characters removed.**"
   ]
  },
  {
   "cell_type": "code",
   "execution_count": 11,
   "id": "be57d1b3-c823-4b33-944c-8cadcd82aff6",
   "metadata": {},
   "outputs": [
    {
     "name": "stdin",
     "output_type": "stream",
     "text": [
      "enter list of strings submarine vizag ghazi attack\n"
     ]
    },
    {
     "name": "stdout",
     "output_type": "stream",
     "text": [
      "ubmarine\n",
      "izag\n",
      "hazi\n",
      "ttack\n"
     ]
    }
   ],
   "source": [
    "lstr=list(input('enter list of strings').split())\n",
    "for i in lstr:\n",
    "    print(i[1:])\n"
   ]
  },
  {
   "cell_type": "code",
   "execution_count": 5,
   "id": "75e29f15-47fb-4c5e-a2df-bb77fc87fcb4",
   "metadata": {},
   "outputs": [
    {
     "name": "stdin",
     "output_type": "stream",
     "text": [
      "Enter list of strings:  pradeep loves shailaga(mental girl)\n"
     ]
    },
    {
     "name": "stdout",
     "output_type": "stream",
     "text": [
      "['radeep', 'oves', 'hailaga(mental', 'irl)']\n"
     ]
    }
   ],
   "source": [
    "lstr = list(input('Enter list of strings: ').split())\n",
    "lstr = [s[1:] for s in lstr if len(s) > 0]  # Remove the first character of each string if the string is not empty\n",
    "print(lstr)\n"
   ]
  },
  {
   "cell_type": "code",
   "execution_count": null,
   "id": "84bff711-b04f-4f45-9016-83d7ac32549a",
   "metadata": {},
   "outputs": [],
   "source": []
  },
  {
   "cell_type": "code",
   "execution_count": null,
   "id": "a9a79502-2478-408f-9e97-6c52e5acc26c",
   "metadata": {},
   "outputs": [],
   "source": []
  }
 ],
 "metadata": {
  "kernelspec": {
   "display_name": "Python 3 (ipykernel)",
   "language": "python",
   "name": "python3"
  },
  "language_info": {
   "codemirror_mode": {
    "name": "ipython",
    "version": 3
   },
   "file_extension": ".py",
   "mimetype": "text/x-python",
   "name": "python",
   "nbconvert_exporter": "python",
   "pygments_lexer": "ipython3",
   "version": "3.12.4"
  }
 },
 "nbformat": 4,
 "nbformat_minor": 5
}
